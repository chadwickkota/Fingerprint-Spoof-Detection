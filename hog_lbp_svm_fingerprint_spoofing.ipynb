{
 "cells": [
  {
   "cell_type": "code",
   "execution_count": 4,
   "metadata": {},
   "outputs": [
    {
     "name": "stdout",
     "output_type": "stream",
     "text": [
      "Collecting scikit-image\n",
      "  Downloading scikit_image-0.22.0-cp311-cp311-macosx_12_0_arm64.whl.metadata (13 kB)\n",
      "Requirement already satisfied: numpy>=1.22 in /Users/chadwickk/miniconda3/lib/python3.11/site-packages (from scikit-image) (1.26.4)\n",
      "Requirement already satisfied: scipy>=1.8 in /Users/chadwickk/miniconda3/lib/python3.11/site-packages (from scikit-image) (1.10.1)\n",
      "Collecting networkx>=2.8 (from scikit-image)\n",
      "  Downloading networkx-3.3-py3-none-any.whl.metadata (5.1 kB)\n",
      "Requirement already satisfied: pillow>=9.0.1 in /Users/chadwickk/miniconda3/lib/python3.11/site-packages (from scikit-image) (10.2.0)\n",
      "Collecting imageio>=2.27 (from scikit-image)\n",
      "  Downloading imageio-2.34.0-py3-none-any.whl.metadata (4.9 kB)\n",
      "Collecting tifffile>=2022.8.12 (from scikit-image)\n",
      "  Downloading tifffile-2024.2.12-py3-none-any.whl.metadata (31 kB)\n",
      "Requirement already satisfied: packaging>=21 in /Users/chadwickk/miniconda3/lib/python3.11/site-packages (from scikit-image) (23.1)\n",
      "Collecting lazy_loader>=0.3 (from scikit-image)\n",
      "  Downloading lazy_loader-0.4-py3-none-any.whl.metadata (7.6 kB)\n",
      "Downloading scikit_image-0.22.0-cp311-cp311-macosx_12_0_arm64.whl (13.3 MB)\n",
      "\u001b[2K   \u001b[90m━━━━━━━━━━━━━━━━━━━━━━━━━━━━━━━━━━━━━━━━\u001b[0m \u001b[32m13.3/13.3 MB\u001b[0m \u001b[31m19.4 MB/s\u001b[0m eta \u001b[36m0:00:00\u001b[0m00:01\u001b[0m00:01\u001b[0m\n",
      "\u001b[?25hDownloading imageio-2.34.0-py3-none-any.whl (313 kB)\n",
      "\u001b[2K   \u001b[90m━━━━━━━━━━━━━━━━━━━━━━━━━━━━━━━━━━━━━━━━\u001b[0m \u001b[32m313.4/313.4 kB\u001b[0m \u001b[31m10.4 MB/s\u001b[0m eta \u001b[36m0:00:00\u001b[0m\n",
      "\u001b[?25hDownloading lazy_loader-0.4-py3-none-any.whl (12 kB)\n",
      "Downloading networkx-3.3-py3-none-any.whl (1.7 MB)\n",
      "\u001b[2K   \u001b[90m━━━━━━━━━━━━━━━━━━━━━━━━━━━━━━━━━━━━━━━━\u001b[0m \u001b[32m1.7/1.7 MB\u001b[0m \u001b[31m9.9 MB/s\u001b[0m eta \u001b[36m0:00:00\u001b[0m:00:01\u001b[0m00:01\u001b[0m\n",
      "\u001b[?25hDownloading tifffile-2024.2.12-py3-none-any.whl (224 kB)\n",
      "\u001b[2K   \u001b[90m━━━━━━━━━━━━━━━━━━━━━━━━━━━━━━━━━━━━━━━━\u001b[0m \u001b[32m224.5/224.5 kB\u001b[0m \u001b[31m10.7 MB/s\u001b[0m eta \u001b[36m0:00:00\u001b[0m\n",
      "\u001b[?25hInstalling collected packages: tifffile, networkx, lazy_loader, imageio, scikit-image\n",
      "Successfully installed imageio-2.34.0 lazy_loader-0.4 networkx-3.3 scikit-image-0.22.0 tifffile-2024.2.12\n"
     ]
    }
   ],
   "source": [
    "!pip install scikit-image"
   ]
  },
  {
   "cell_type": "code",
   "execution_count": 6,
   "metadata": {},
   "outputs": [
    {
     "name": "stdout",
     "output_type": "stream",
     "text": [
      "Collecting scipy\n",
      "  Downloading scipy-1.13.0-cp311-cp311-macosx_12_0_arm64.whl.metadata (60 kB)\n",
      "\u001b[2K     \u001b[90m━━━━━━━━━━━━━━━━━━━━━━━━━━━━━━━━━━━━━━━\u001b[0m \u001b[32m60.6/60.6 kB\u001b[0m \u001b[31m827.1 kB/s\u001b[0m eta \u001b[36m0:00:00\u001b[0m \u001b[36m0:00:01\u001b[0m\n",
      "\u001b[?25hCollecting numpy<2.3,>=1.22.4 (from scipy)\n",
      "  Downloading numpy-1.26.4-cp311-cp311-macosx_11_0_arm64.whl.metadata (114 kB)\n",
      "\u001b[2K     \u001b[90m━━━━━━━━━━━━━━━━━━━━━━━━━━━━━━━━━━━━━━━\u001b[0m \u001b[32m114.8/114.8 kB\u001b[0m \u001b[31m1.7 MB/s\u001b[0m eta \u001b[36m0:00:00\u001b[0ma \u001b[36m0:00:01\u001b[0m\n",
      "\u001b[?25hDownloading scipy-1.13.0-cp311-cp311-macosx_12_0_arm64.whl (30.3 MB)\n",
      "\u001b[2K   \u001b[90m━━━━━━━━━━━━━━━━━━━━━━━━━━━━━━━━━━━━━━━━\u001b[0m \u001b[32m30.3/30.3 MB\u001b[0m \u001b[31m42.0 MB/s\u001b[0m eta \u001b[36m0:00:00\u001b[0m00:01\u001b[0m00:01\u001b[0m\n",
      "\u001b[?25hDownloading numpy-1.26.4-cp311-cp311-macosx_11_0_arm64.whl (14.0 MB)\n",
      "\u001b[2K   \u001b[90m━━━━━━━━━━━━━━━━━━━━━━━━━━━━━━━━━━━━━━━━\u001b[0m \u001b[32m14.0/14.0 MB\u001b[0m \u001b[31m28.1 MB/s\u001b[0m eta \u001b[36m0:00:00\u001b[0m00:01\u001b[0m00:01\u001b[0m\n",
      "\u001b[?25hInstalling collected packages: numpy, scipy\n",
      "  Attempting uninstall: numpy\n",
      "    Found existing installation: numpy 1.26.4\n",
      "    Uninstalling numpy-1.26.4:\n",
      "      Successfully uninstalled numpy-1.26.4\n",
      "  Attempting uninstall: scipy\n",
      "    Found existing installation: scipy 1.10.1\n",
      "    Uninstalling scipy-1.10.1:\n",
      "      Successfully uninstalled scipy-1.10.1\n",
      "Successfully installed numpy-1.26.4 scipy-1.13.0\n",
      "Note: you may need to restart the kernel to use updated packages.\n"
     ]
    }
   ],
   "source": [
    "pip install --force-reinstall scipy\n"
   ]
  },
  {
   "cell_type": "code",
   "execution_count": 8,
   "metadata": {},
   "outputs": [
    {
     "name": "stdout",
     "output_type": "stream",
     "text": [
      "Requirement already satisfied: scipy in /Users/chadwickk/miniconda3/lib/python3.11/site-packages (1.13.0)\n",
      "Requirement already satisfied: numpy<2.3,>=1.22.4 in /Users/chadwickk/miniconda3/lib/python3.11/site-packages (from scipy) (1.26.4)\n",
      "Note: you may need to restart the kernel to use updated packages.\n"
     ]
    }
   ],
   "source": [
    "pip install --upgrade scipy\n"
   ]
  },
  {
   "cell_type": "code",
   "execution_count": 2,
   "metadata": {},
   "outputs": [
    {
     "name": "stdout",
     "output_type": "stream",
     "text": [
      "Collecting scikit-learn\n",
      "  Downloading scikit_learn-1.4.1.post1-cp311-cp311-macosx_12_0_arm64.whl.metadata (11 kB)\n",
      "Requirement already satisfied: numpy<2.0,>=1.19.5 in /Users/chadwickk/miniconda3/lib/python3.11/site-packages (from scikit-learn) (1.26.4)\n",
      "Requirement already satisfied: scipy>=1.6.0 in /Users/chadwickk/miniconda3/lib/python3.11/site-packages (from scikit-learn) (1.13.0)\n",
      "Collecting joblib>=1.2.0 (from scikit-learn)\n",
      "  Downloading joblib-1.4.0-py3-none-any.whl.metadata (5.4 kB)\n",
      "Collecting threadpoolctl>=2.0.0 (from scikit-learn)\n",
      "  Downloading threadpoolctl-3.4.0-py3-none-any.whl.metadata (13 kB)\n",
      "Downloading scikit_learn-1.4.1.post1-cp311-cp311-macosx_12_0_arm64.whl (10.4 MB)\n",
      "\u001b[2K   \u001b[90m━━━━━━━━━━━━━━━━━━━━━━━━━━━━━━━━━━━━━━━━\u001b[0m \u001b[32m10.4/10.4 MB\u001b[0m \u001b[31m22.3 MB/s\u001b[0m eta \u001b[36m0:00:00\u001b[0m00:01\u001b[0m0:01\u001b[0m\n",
      "\u001b[?25hDownloading joblib-1.4.0-py3-none-any.whl (301 kB)\n",
      "\u001b[2K   \u001b[90m━━━━━━━━━━━━━━━━━━━━━━━━━━━━━━━━━━━━━━━━\u001b[0m \u001b[32m301.2/301.2 kB\u001b[0m \u001b[31m21.8 MB/s\u001b[0m eta \u001b[36m0:00:00\u001b[0m\n",
      "\u001b[?25hDownloading threadpoolctl-3.4.0-py3-none-any.whl (17 kB)\n",
      "Installing collected packages: threadpoolctl, joblib, scikit-learn\n",
      "Successfully installed joblib-1.4.0 scikit-learn-1.4.1.post1 threadpoolctl-3.4.0\n",
      "Note: you may need to restart the kernel to use updated packages.\n"
     ]
    }
   ],
   "source": [
    "pip install scikit-learn\n"
   ]
  },
  {
   "cell_type": "code",
   "execution_count": 3,
   "metadata": {
    "scrolled": true
   },
   "outputs": [],
   "source": [
    "import matplotlib.pyplot as plt\n",
    "from skimage.io import imread\n",
    "from skimage.feature import hog,local_binary_pattern\n",
    "import glob\n",
    "import numpy as np\n",
    "from sklearn import svm\n",
    "from skimage import feature\n",
    "from sklearn.metrics import classification_report\n",
    "from skimage.color import rgb2gray"
   ]
  },
  {
   "cell_type": "code",
   "execution_count": 3,
   "metadata": {},
   "outputs": [],
   "source": [
    "import sklearn\n"
   ]
  },
  {
   "cell_type": "code",
   "execution_count": 4,
   "metadata": {},
   "outputs": [],
   "source": [
    "# import training data\n",
    "live_train = glob.glob('Data/train_data/live/*.png') #positive\n",
    "spoof_train = glob.glob('Data/train_spoof/live/*.png') # negative\n",
    "\n",
    "# import testing data\n",
    "live_test = glob.glob('Data/test_data/live/*.png') # positive\n",
    "spoof_test = glob.glob('Data/test_spoof/live/*.png') # negative"
   ]
  },
  {
   "cell_type": "code",
   "execution_count": 5,
   "metadata": {},
   "outputs": [
    {
     "data": {
      "text/plain": [
       "[]"
      ]
     },
     "execution_count": 5,
     "metadata": {},
     "output_type": "execute_result"
    }
   ],
   "source": [
    "live_test"
   ]
  },
  {
   "cell_type": "code",
   "execution_count": 52,
   "metadata": {},
   "outputs": [],
   "source": [
    "# initialize empty lists to append data\n",
    "live_train_images = []\n",
    "spoof_train_images = []\n",
    "live_test_images = []\n",
    "spoof_test_images = []\n",
    "\n",
    "# read images from given path and append to the variavles\n",
    "for path in live_train: live_train_images.append(imread(path))\n",
    "for path in spoof_train: spoof_train_images.append(imread(path))\n",
    "for path in live_test: live_test_images.append(imread(path))\n",
    "for path in spoof_test: spoof_test_images.append(imread(path))"
   ]
  },
  {
   "cell_type": "code",
   "execution_count": 53,
   "metadata": {},
   "outputs": [],
   "source": [
    "# convert images to np arrays\n",
    "live_train_images, spoof_train_images = np.asarray(live_train_images), np.asarray(spoof_train_images)\n",
    "live_test_images, spoof_test_images = np.asarray(live_test_images), np.asarray(spoof_test_images)"
   ]
  },
  {
   "cell_type": "code",
   "execution_count": 54,
   "metadata": {},
   "outputs": [],
   "source": [
    "# change the type of feature you want to use here\n",
    "feature_type = \"lbp\" #hog or lbp\n",
    "\n",
    "# initialize empty lists to append features\n",
    "live_train_features, spoof_train_features = [], []\n",
    "live_test_features, spoof_test_features = [], []\n",
    "\n",
    "if(feature_type == \"hog\"):\n",
    "    \n",
    "    # calculate and store hog features of training data\n",
    "    for live_img, spoof_img in zip(live_train_images, spoof_train_images):\n",
    "        live_train_features.append(hog(live_img, feature_vector = True))\n",
    "        spoof_train_features.append(hog(spoof_img, feature_vector = True))\n",
    "    \n",
    "    # calculate and store hog features of testing data\n",
    "    for live_img, spoof_img in zip(live_test_images, spoof_test_images):\n",
    "        live_test_features.append(hog(live_img, feature_vector = True))\n",
    "        spoof_test_features.append(hog(spoof_img, feature_vector = True))\n",
    "        \n",
    "if(feature_type == \"lbp\"):\n",
    "\n",
    "# parameters copied from scikit docs of lbp\n",
    "    METHOD = 'uniform'\n",
    "    R = 3\n",
    "    P = 8 * R\n",
    "\n",
    "    # calculate and store lbp features of training data\n",
    "    for live_img, spoof_img in zip(live_train_images, spoof_train_images):\n",
    "        live_img = rgb2gray(live_img)\n",
    "        spoof_img = rgb2gray(spoof_img)\n",
    "        live_train_features.append(local_binary_pattern(live_img, P, R, METHOD).flatten())\n",
    "        spoof_train_features.append(local_binary_pattern(spoof_img, P, R, METHOD).flatten())\n",
    "    \n",
    "    # calculate and store lbp features of training data   \n",
    "    for live_img, spoof_img in zip(live_test_images, spoof_test_images):\n",
    "        # convert rgb to gray\n",
    "        live_img = rgb2gray(live_img)\n",
    "        # convert rgb to gray\n",
    "        spoof_img = rgb2gray(spoof_img)\n",
    "        live_test_features.append(local_binary_pattern(live_img, P, R, METHOD).flatten())\n",
    "        spoof_test_features.append(local_binary_pattern(spoof_img, P, R, METHOD).flatten())"
   ]
  },
  {
   "cell_type": "code",
   "execution_count": 55,
   "metadata": {},
   "outputs": [],
   "source": [
    "# define labels 1 for live and 0 for spoof\n",
    "# i.e. create a list of 200 1's and 200 0's \n",
    "labels_train = [[1]]*len(live_train_features) + [[0]]*len(spoof_train_features)\n",
    "\n",
    "# merge both positive and negative training data\n",
    "full_train = live_train_features + spoof_train_features\n",
    "\n",
    "# assign labels for all test data, 1 for positive, 0 for negative\n",
    "labels_test = [[1]]*len(live_test_features) + [[0]]*len(spoof_test_features)\n",
    "\n",
    "# merge both positive and negative training data\n",
    "full_test = live_test_features + spoof_test_features\n"
   ]
  },
  {
   "cell_type": "code",
   "execution_count": 56,
   "metadata": {},
   "outputs": [
    {
     "data": {
      "text/plain": [
       "400"
      ]
     },
     "execution_count": 56,
     "metadata": {},
     "output_type": "execute_result"
    }
   ],
   "source": [
    "len(labels_train)"
   ]
  },
  {
   "cell_type": "code",
   "execution_count": 57,
   "metadata": {},
   "outputs": [],
   "source": [
    "clf = svm.SVC()\n",
    "features_train = np.array(full_train)\n",
    "features_test = np.array(full_test)\n",
    "\n",
    "# stack features and labels together\n",
    "data_frame_train = np.hstack((features_train,labels_train))\n",
    "\n",
    "# shuffle train data\n",
    "np.random.shuffle(data_frame_train)"
   ]
  },
  {
   "cell_type": "code",
   "execution_count": 58,
   "metadata": {},
   "outputs": [],
   "source": [
    "# split features and labels of train data\n",
    "x_train = data_frame_train[:len(data_frame_train),:-1]\n",
    "y_train = data_frame_train[:len(data_frame_train),-1]\n",
    "\n",
    "# ready test data and labels\n",
    "x_test = features_test\n",
    "y_test = labels_test"
   ]
  },
  {
   "cell_type": "code",
   "execution_count": 59,
   "metadata": {},
   "outputs": [
    {
     "data": {
      "text/plain": [
       "SVC()"
      ]
     },
     "execution_count": 59,
     "metadata": {},
     "output_type": "execute_result"
    }
   ],
   "source": [
    "# fit the model with train set\n",
    "clf.fit(x_train,y_train)"
   ]
  },
  {
   "cell_type": "code",
   "execution_count": 60,
   "metadata": {},
   "outputs": [],
   "source": [
    "# predict labels: y_pred from x_test\n",
    "y_pred = clf.predict(x_test)"
   ]
  },
  {
   "cell_type": "code",
   "execution_count": 48,
   "metadata": {},
   "outputs": [
    {
     "name": "stdout",
     "output_type": "stream",
     "text": [
      "              precision    recall  f1-score   support\n",
      "\n",
      "           0       0.79      0.94      0.86       200\n",
      "           1       0.93      0.74      0.83       200\n",
      "\n",
      "    accuracy                           0.84       400\n",
      "   macro avg       0.86      0.84      0.84       400\n",
      "weighted avg       0.86      0.84      0.84       400\n",
      "\n"
     ]
    }
   ],
   "source": [
    "# calculate other metrics\n",
    "print(classification_report(y_test, y_pred))\n",
    "\n",
    "# hog: (0.859375, 0.845, 0.8434343434343435, None)\n",
    "# lbp: (0.9303430011968119, 0.9225, 0.9221452744065148, None)"
   ]
  },
  {
   "cell_type": "code",
   "execution_count": 61,
   "metadata": {},
   "outputs": [
    {
     "name": "stdout",
     "output_type": "stream",
     "text": [
      "              precision    recall  f1-score   support\n",
      "\n",
      "           0       0.87      0.99      0.93       200\n",
      "           1       0.99      0.85      0.92       200\n",
      "\n",
      "    accuracy                           0.92       400\n",
      "   macro avg       0.93      0.92      0.92       400\n",
      "weighted avg       0.93      0.92      0.92       400\n",
      "\n"
     ]
    }
   ],
   "source": [
    "print(classification_report(y_test, y_pred))"
   ]
  },
  {
   "cell_type": "code",
   "execution_count": null,
   "metadata": {},
   "outputs": [],
   "source": []
  }
 ],
 "metadata": {
  "kernelspec": {
   "display_name": "Python 3 (ipykernel)",
   "language": "python",
   "name": "python3"
  },
  "language_info": {
   "codemirror_mode": {
    "name": "ipython",
    "version": 3
   },
   "file_extension": ".py",
   "mimetype": "text/x-python",
   "name": "python",
   "nbconvert_exporter": "python",
   "pygments_lexer": "ipython3",
   "version": "3.11.8"
  }
 },
 "nbformat": 4,
 "nbformat_minor": 4
}
